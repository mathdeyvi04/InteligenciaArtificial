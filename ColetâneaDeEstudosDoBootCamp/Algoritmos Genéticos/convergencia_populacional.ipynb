{
  "nbformat": 4,
  "nbformat_minor": 0,
  "metadata": {
    "colab": {
      "provenance": [],
      "collapsed_sections": [
        "lgr1onl8Qac4",
        "XtSnvQp3SHDZ",
        "aUGONFeJZvz_",
        "tVXnsaQ0V3yb",
        "bOHRenwJiLy-",
        "SD_LZCqMs-0R",
        "UlN9lm1kRWx1"
      ]
    },
    "kernelspec": {
      "name": "python3",
      "display_name": "Python 3"
    },
    "language_info": {
      "name": "python"
    }
  },
  "cells": [
    {
      "cell_type": "code",
      "source": [
        "# Importações amplamente necessárias.\n",
        "from pprint import pprint\n",
        "import random as rd\n",
        "from matplotlib import pyplot as pp\n",
        "from numpy import concatenate, copy\n",
        "from pygame.math import Vector2\n",
        "from time import sleep"
      ],
      "metadata": {
        "id": "PnJr_5ThREEo"
      },
      "execution_count": 168,
      "outputs": []
    },
    {
      "cell_type": "markdown",
      "source": [
        "# Problema 1: Melhor Localização\n",
        "\n",
        "A partir de um ponto específico, um punhado de elementos aleatórios na vizinhança deve convergir para o ponto.\n",
        "\n",
        "Por simplicidade, faremos o problema em **duas dimensões** e, por causa disso, usaremos a classe Vector2 já criada dentro do _pygame.math_. Entretanto, nada impede que o usuário possa criar uma classe de Vector que possua N dimensões e coloque-a aqui."
      ],
      "metadata": {
        "id": "aXctB0VIPohy"
      }
    },
    {
      "cell_type": "markdown",
      "source": [
        "## Criação de um ponto específico"
      ],
      "metadata": {
        "id": "lgr1onl8Qac4"
      }
    },
    {
      "cell_type": "code",
      "execution_count": 169,
      "metadata": {
        "id": "Av3iWU1-Nd8S"
      },
      "outputs": [],
      "source": [
        "def gerar_ponto_de_convergencia(\n",
        "        dim: int = 2\n",
        ") -> Vector2:\n",
        "    \"\"\"\n",
        "    Descrição:\n",
        "        Gera um ponto que a população deverá convergir.\n",
        "    \"\"\"\n",
        "    return Vector2(\n",
        "        [\n",
        "            rd.random() for _ in range(dim)\n",
        "        ]\n",
        "    )\n",
        "\n",
        "ponto_de_convergencia = gerar_ponto_de_convergencia()"
      ]
    },
    {
      "cell_type": "markdown",
      "source": [
        "## Criação de População Aleatória"
      ],
      "metadata": {
        "id": "XtSnvQp3SHDZ"
      }
    },
    {
      "cell_type": "code",
      "source": [
        "def gerar_populacao_inicial(\n",
        "        ponto_de_convergencia: Vector2,\n",
        "        fator_de_distancia_do_ponto_de_convergencia: int = 2,\n",
        "        fator_de_tamanho_da_nuvem: int = 0.5,\n",
        "        quantidade_de_elementos_na_populacao: int = 50,\n",
        "        dim: int = 2\n",
        ") -> list[Vector2]:\n",
        "    \"\"\"\n",
        "    Descrição:\n",
        "        Gera uma nuvem de pontos aleatórios em torno de\n",
        "        um ponto específico que representará a população inicial.\n",
        "\n",
        "    Parâmetros:\n",
        "        -> fator_de_distancia_do_ponto_de_convergencia:\n",
        "            O quão longe a nuvem inicial estará do ponto de convergência.\n",
        "\n",
        "        -> fator_de_tamanho_da_nuvem:\n",
        "            O quão dispersa a nuvem estará.\n",
        "    \"\"\"\n",
        "\n",
        "    ponto_aleatorio_central = ponto_de_convergencia + Vector2(\n",
        "        [\n",
        "            rd.random() for _ in range(dim)\n",
        "        ]\n",
        "    ) * fator_de_distancia_do_ponto_de_convergencia\n",
        "\n",
        "    return list(\n",
        "        ponto_aleatorio_central + Vector2(\n",
        "            [\n",
        "                rd.uniform(\n",
        "                    -fator_de_tamanho_da_nuvem,\n",
        "                    fator_de_tamanho_da_nuvem\n",
        "                ) for _ in range(dim)\n",
        "            ]\n",
        "        ) for _ in range(quantidade_de_elementos_na_populacao)\n",
        "    )\n",
        "\n",
        "populacao_inicial = gerar_populacao_inicial(\n",
        "    ponto_de_convergencia\n",
        ")"
      ],
      "metadata": {
        "collapsed": true,
        "id": "6IXWkZSKSKij"
      },
      "execution_count": 170,
      "outputs": []
    },
    {
      "cell_type": "markdown",
      "source": [
        "## Forma de Apresentação"
      ],
      "metadata": {
        "id": "64u-lfsYZcyp"
      }
    },
    {
      "cell_type": "code",
      "source": [
        "def plotar(\n",
        "        ponto_de_convergencia: Vector2,\n",
        "        lista_de_elementos: list[Vector2],\n",
        "        index_do_melhor_elemento: int,\n",
        "        geration: int\n",
        ") -> None:\n",
        "    \"\"\"\n",
        "    Descrição:\n",
        "        Apresentará os pontos.\n",
        "    \"\"\"\n",
        "\n",
        "    pp.scatter(\n",
        "        ponto_de_convergencia.x,\n",
        "        ponto_de_convergencia.y,\n",
        "    )\n",
        "\n",
        "    for index, elemento in enumerate(\n",
        "        lista_de_elementos\n",
        "    ):\n",
        "        if index == index_do_melhor_elemento:\n",
        "            pp.scatter(\n",
        "                elemento.x,\n",
        "                elemento.y,\n",
        "                c = \"red\"\n",
        "            )\n",
        "        else:\n",
        "            pp.scatter(\n",
        "                elemento.x,\n",
        "                elemento.y,\n",
        "                c = \"black\"\n",
        "            )\n",
        "\n",
        "    pp.title(\n",
        "        f\"Apresentação Geração {geration}\"\n",
        "    )\n",
        "    pp.xlim(\n",
        "        0, 3\n",
        "    )\n",
        "    pp.ylim(\n",
        "        0, 3\n",
        "    )\n",
        "\n",
        "    if geration % 10 == 0:\n",
        "        pp.savefig(\n",
        "            f\"/content/retratos_de_geracoes/{geration}\"\n",
        "        )\n",
        "\n",
        "    pp.show()"
      ],
      "metadata": {
        "id": "3BO4kHuNXRHR"
      },
      "execution_count": 171,
      "outputs": []
    },
    {
      "cell_type": "markdown",
      "source": [
        "## Implementação"
      ],
      "metadata": {
        "id": "ZoCp2bGRZfig"
      }
    },
    {
      "cell_type": "markdown",
      "source": [
        "### Função Fitness: Melhor ⟶ Mais Perto"
      ],
      "metadata": {
        "id": "aUGONFeJZvz_"
      }
    },
    {
      "cell_type": "code",
      "source": [
        "def obter_melhor(\n",
        "        ponto_de_convergencia: Vector2,\n",
        "        lista_de_elementos: list[Vector2]\n",
        ") -> int:\n",
        "    \"\"\"\n",
        "    Descrição:\n",
        "        A partir da lista dos elementos da população, obterá o elemento\n",
        "        mais perto e retornará seu index.\n",
        "\n",
        "        Construimos o algoritmo na moral, apesar de podermos usarmos heap ou\n",
        "        outros formas de otimização, pois pedir que o python faça tudo é criar\n",
        "        dependência.\n",
        "    \"\"\"\n",
        "\n",
        "    melhor_elemento = None\n",
        "    menor_distancia_ate_o_momento = 10000  # Um número grande o suficiente que nunca será alcançado.\n",
        "\n",
        "\n",
        "    for elemento in lista_de_elementos:\n",
        "        distancia = (\n",
        "            ponto_de_convergencia - elemento\n",
        "        ).length_squared(\n",
        "            # Dessa forma evitamos a raiz quadrado,\n",
        "            # fato que apenas diminuiria performance.\n",
        "        )\n",
        "\n",
        "        if distancia <= menor_distancia_ate_o_momento:\n",
        "            menor_distancia_ate_o_momento = distancia\n",
        "            melhor_elemento = elemento\n",
        "\n",
        "    return melhor_elemento"
      ],
      "metadata": {
        "id": "tj4-a77DZvRx"
      },
      "execution_count": 172,
      "outputs": []
    },
    {
      "cell_type": "markdown",
      "source": [
        "### Obter o Sortudo"
      ],
      "metadata": {
        "id": "tVXnsaQ0V3yb"
      }
    },
    {
      "cell_type": "code",
      "source": [
        "def obter_sortudo(\n",
        "        ponto_de_convergencia: Vector2,\n",
        "        lista_de_elementos: list[Vector2],\n",
        "        tamanho_da_populacao_de_possiveis_sortudos: int = None\n",
        ") -> Vector2:\n",
        "    \"\"\"\n",
        "    Descrição:\n",
        "        Devemos obter um outro elemento, não necessariamente o 02,\n",
        "        para que seja o segundo elemento a ser cruzado. Fazendo isso,\n",
        "        permitimos a diversidade na população.\n",
        "    \"\"\"\n",
        "\n",
        "    if tamanho_da_populacao_de_possiveis_sortudos is None:\n",
        "        tamanho_da_populacao_de_possiveis_sortudos = len(\n",
        "            lista_de_elementos\n",
        "        ) // 10\n",
        "\n",
        "    # Como a coleção é aleatória, tanto faz pegarmos elementos\n",
        "    # aleatórios em posições aleatórias como sequenciais.\n",
        "\n",
        "    return obter_melhor(\n",
        "        ponto_de_convergencia,\n",
        "        rd.sample(\n",
        "            lista_de_elementos,\n",
        "            tamanho_da_populacao_de_possiveis_sortudos\n",
        "        )\n",
        "    )"
      ],
      "metadata": {
        "id": "dAlDxO-sV8D7"
      },
      "execution_count": 173,
      "outputs": []
    },
    {
      "cell_type": "markdown",
      "source": [
        "### Cruzamento"
      ],
      "metadata": {
        "id": "bOHRenwJiLy-"
      }
    },
    {
      "cell_type": "code",
      "source": [
        "def fazer_sexo(\n",
        "        elemento_1: Vector2,\n",
        "        elemento_2: Vector2,\n",
        "        dim: int = 2\n",
        ") -> tuple[Vector2, Vector2]:\n",
        "    \"\"\"\n",
        "    Descrição:\n",
        "        'Cortaremos' cada genitor(Vetor) em partes\n",
        "         e trocaremos elas para criar os filhos.\n",
        "\n",
        "         A ideia é imaginar que, no caso geral, temos um\n",
        "         vetor de n entradas. Escolhemos um filamento que\n",
        "         vai do index a até o index b e trocaremos este\n",
        "         filamento entre eles.\n",
        "    \"\"\"\n",
        "\n",
        "    inicio_do_filamento_de_troca, final_do_filamento_de_troca = [\n",
        "        rd.randint(\n",
        "            0,\n",
        "            dim - 1\n",
        "        ) for _ in range(2)\n",
        "    ]\n",
        "\n",
        "    # Precisamos garantir que os index façam sentido.\n",
        "    if inicio_do_filamento_de_troca > final_do_filamento_de_troca:\n",
        "        inicio_do_filamento_de_troca, final_do_filamento_de_troca = final_do_filamento_de_troca, inicio_do_filamento_de_troca\n",
        "\n",
        "    if inicio_do_filamento_de_troca == final_do_filamento_de_troca:\n",
        "        final_do_filamento_de_troca += 1\n",
        "\n",
        "    # Trocar os filamentos dos genitores\n",
        "    temporario = copy(\n",
        "        elemento_1\n",
        "    )\n",
        "    filho_1 = Vector2(\n",
        "        list(\n",
        "                concatenate(\n",
        "                [\n",
        "                    elemento_1[0 : inicio_do_filamento_de_troca],\n",
        "                    elemento_2[inicio_do_filamento_de_troca : final_do_filamento_de_troca],\n",
        "                    elemento_1[final_do_filamento_de_troca :]\n",
        "                ]\n",
        "            )\n",
        "        )\n",
        "    )\n",
        "\n",
        "    filho_2 = Vector2(\n",
        "        list(\n",
        "                concatenate(\n",
        "                [\n",
        "                    elemento_2[0 : inicio_do_filamento_de_troca],\n",
        "                    temporario[inicio_do_filamento_de_troca : final_do_filamento_de_troca],\n",
        "                    elemento_2[final_do_filamento_de_troca : ]\n",
        "                ]\n",
        "            )\n",
        "        )\n",
        "    )\n",
        "\n",
        "    return filho_1, filho_2"
      ],
      "metadata": {
        "id": "OrMBjt09iMWG"
      },
      "execution_count": 174,
      "outputs": []
    },
    {
      "cell_type": "markdown",
      "source": [
        "### Mutação"
      ],
      "metadata": {
        "id": "SD_LZCqMs-0R"
      }
    },
    {
      "cell_type": "code",
      "source": [
        "def mutar(\n",
        "        elemento: Vector2,\n",
        "        chance_de_mutacao: float = 0.7,\n",
        "        escala_de_mutacao: float = 1,\n",
        "        variables_de_mutabilidade: tuple[float, float] = (0.1, 0.1),\n",
        "        dim: int = 2\n",
        ") -> Vector2:\n",
        "    \"\"\"\n",
        "    Descrição:\n",
        "        Para obtermos novas possibilidades fora da capacidade\n",
        "        da população atual, podemos realizar uma mutação.\n",
        "    \"\"\"\n",
        "\n",
        "    # Verificando se irá ser mutado\n",
        "    if rd.uniform(\n",
        "        0,\n",
        "        1\n",
        "    ) > chance_de_mutacao:\n",
        "        vetor_de_mutacao = Vector2(\n",
        "            [\n",
        "                # Vamos usar distribuição gamma.\n",
        "                rd.gauss(\n",
        "                    variables_de_mutabilidade[0],  # Média dos Valores de Mutação\n",
        "                    variables_de_mutabilidade[1]  # Desvio Padrão dos Valores de Mutação\n",
        "                ) for _ in range(len(elemento))\n",
        "            ]\n",
        "        )\n",
        "\n",
        "        elemento = elemento + vetor_de_mutacao\n",
        "\n",
        "    return elemento"
      ],
      "metadata": {
        "id": "ItK93tBItB9I"
      },
      "execution_count": 175,
      "outputs": []
    },
    {
      "cell_type": "markdown",
      "source": [
        "### Atualizar Gerações"
      ],
      "metadata": {
        "id": "UlN9lm1kRWx1"
      }
    },
    {
      "cell_type": "code",
      "source": [
        "def atualizar_populacao(\n",
        "        ponto_de_convergencia: Vector2,\n",
        "        populacao_atual: list[Vector2],\n",
        "        nova_populacao: list[Vector2],\n",
        "        quantidade_de_elementos_possiveis_genitores: int,\n",
        "        permitir_mutacao: bool,\n",
        "        chance_de_mutacao: float,\n",
        "        escala_de_mutacao: float,\n",
        "        variables_de_mutabilidade: tuple[float, float]\n",
        ") -> list[Vector2]:\n",
        "    \"\"\"\n",
        "    Descrição:\n",
        "        Gerará uma nova população a partir da anterior usando cruzamento\n",
        "        dos 'melhores'.\n",
        "    \"\"\"\n",
        "    total_population = len(\n",
        "        populacao_atual\n",
        "    )\n",
        "\n",
        "    for index in range(\n",
        "        total_population // 2\n",
        "    ):\n",
        "        genitor_1 = obter_sortudo(\n",
        "            ponto_de_convergencia,\n",
        "            populacao_atual,\n",
        "            quantidade_de_elementos_possiveis_genitores\n",
        "        )\n",
        "        genitor_2 = obter_sortudo(\n",
        "            ponto_de_convergencia,\n",
        "            populacao_atual,\n",
        "            quantidade_de_elementos_possiveis_genitores\n",
        "        )\n",
        "\n",
        "        # Perceba que se, por um acaso, forem iguais, apenas serão os mesmos.\n",
        "        filho_1, filho_2 = fazer_sexo(\n",
        "            genitor_1,\n",
        "            genitor_2\n",
        "        )\n",
        "\n",
        "        # Agora acrescentar a mutação dentro da população.\n",
        "        nova_populacao[\n",
        "            index\n",
        "        ] = mutar(\n",
        "            filho_1,\n",
        "            chance_de_mutacao,\n",
        "            escala_de_mutacao,\n",
        "            variables_de_mutabilidade\n",
        "        ) if permitir_mutacao else filho_1\n",
        "\n",
        "        nova_populacao[\n",
        "            # irmão do cara de cima\n",
        "            index + (total_population // 2)\n",
        "        ] = mutar(\n",
        "            filho_2,\n",
        "            chance_de_mutacao,\n",
        "            escala_de_mutacao,\n",
        "            variables_de_mutabilidade\n",
        "        ) if permitir_mutacao else filho_2\n",
        "\n",
        "    return nova_populacao"
      ],
      "metadata": {
        "id": "7nmvd3EpRXGN"
      },
      "execution_count": 176,
      "outputs": []
    },
    {
      "cell_type": "markdown",
      "source": [
        "### Deixando Em Condições de Uso"
      ],
      "metadata": {
        "id": "IBS4f5KrZDLW"
      }
    },
    {
      "cell_type": "code",
      "source": [
        "class Evolucao:\n",
        "    def __init__(\n",
        "            self,\n",
        "            # Relativos à Criação da População Inicial\n",
        "            quantidade_de_elementos_na_populacao: int,\n",
        "            fator_de_distancia_do_ponto_de_convergencia: int,\n",
        "            fator_de_tamanho_da_nuvem: int,\n",
        "    ) -> None:\n",
        "\n",
        "        self.ponto_de_convergencia = gerar_ponto_de_convergencia()\n",
        "\n",
        "        self.tupla_de_geracoes = (\n",
        "            gerar_populacao_inicial(\n",
        "                self.ponto_de_convergencia,\n",
        "                fator_de_distancia_do_ponto_de_convergencia,\n",
        "                fator_de_tamanho_da_nuvem,\n",
        "                quantidade_de_elementos_na_populacao\n",
        "            ),\n",
        "            [\n",
        "                0 for _ in range(\n",
        "                    # Apenas para termos uma segunda.\n",
        "                    quantidade_de_elementos_na_populacao\n",
        "                )\n",
        "            ]\n",
        "        )\n",
        "\n",
        "        self.geracao = 0\n",
        "\n",
        "    def proxima_geracao(\n",
        "            self,\n",
        "            se_deseja_plotagem: bool,\n",
        "            quantidade_de_elementos_possiveis_genitores: int,\n",
        "            permitir_mutacao: bool,\n",
        "            chance_de_mutacao: float,\n",
        "            escala_de_mutacao: float,\n",
        "            variaveis_de_mutabilidade: tuple[float, float]\n",
        "    ) -> None:\n",
        "\n",
        "        atualizar_populacao(\n",
        "            self.ponto_de_convergencia,\n",
        "            self.tupla_de_geracoes[\n",
        "                self.geracao % 2\n",
        "            ],\n",
        "            self.tupla_de_geracoes[\n",
        "                (self.geracao + 1) % 2\n",
        "            ],\n",
        "            quantidade_de_elementos_possiveis_genitores,\n",
        "            permitir_mutacao,\n",
        "            chance_de_mutacao,\n",
        "            escala_de_mutacao,\n",
        "            variaveis_de_mutabilidade\n",
        "        )\n",
        "\n",
        "        self.geracao += 1\n",
        "\n",
        "        if se_deseja_plotagem:\n",
        "\n",
        "            plotar(\n",
        "                self.ponto_de_convergencia,\n",
        "                self.tupla_de_geracoes[\n",
        "                    self.geracao % 2\n",
        "                ],\n",
        "                self.tupla_de_geracoes[\n",
        "                    self.geracao % 2\n",
        "                ].index(\n",
        "                    obter_melhor(\n",
        "                        self.ponto_de_convergencia,\n",
        "                        self.tupla_de_geracoes[\n",
        "                            self.geracao % 2\n",
        "                        ]\n",
        "                    )\n",
        "                ),\n",
        "                self.geracao\n",
        "            )"
      ],
      "metadata": {
        "id": "f6sl8jQIZFe5"
      },
      "execution_count": 177,
      "outputs": []
    },
    {
      "cell_type": "markdown",
      "source": [
        "### Executando"
      ],
      "metadata": {
        "id": "7O51o0yzdS-V"
      }
    },
    {
      "cell_type": "code",
      "source": [
        "exemplo = Evolucao(\n",
        "    50,  # quantidade de elementos na populacao\n",
        "    2,  # fator de distancia do ponto de convergencia\n",
        "    0.5  # fator de tamanho da nuvem\n",
        ")\n",
        "\n",
        "for geracao in range(\n",
        "    # Máxima Geração\n",
        "    20\n",
        "):\n",
        "    exemplo.proxima_geracao(\n",
        "        True,\n",
        "        10,  # quantidade de elementos possiveis genitores\n",
        "        True,\n",
        "        0.3,  # chance de cada filho ser mutado\n",
        "        1,  # escala da mutacao\n",
        "        (\n",
        "            0.1, # Média das mutações\n",
        "            0.1  # Desvio padrão das mutações\n",
        "        )\n",
        "    )\n",
        "\n",
        "# Conforme Alteramos os resultados de mutabilidade, obtemos resultados bem diferentes."
      ],
      "metadata": {
        "id": "nRgQwUUXdVB5"
      },
      "execution_count": 178,
      "outputs": []
    }
  ]
}